{
 "cells": [
  {
   "cell_type": "code",
   "execution_count": 7,
   "id": "91cfc29f",
   "metadata": {},
   "outputs": [],
   "source": [
    "#QN0.1 ANS\n",
    "\n",
    "def product_of_numbers(lst):\n",
    "    flattened_lst = []\n",
    "    for item in lst:\n",
    "        if isinstance(item, (list, tuple, set)):\n",
    "            flattened_lst.extend(item)\n",
    "        elif isinstance(item, dict):\n",
    "            flattened_lst.extend(item.keys())\n",
    "            flattened_lst.extend(item.values())\n",
    "        else:\n",
    "            flattened_lst.append(item)\n",
    "\n",
    "    product = 1\n",
    "    for num in flattened_lst:\n",
    "        if isinstance(num, (int, float)):\n",
    "            product *= num\n",
    "\n",
    "    return product if product != 1 else 0\n"
   ]
  },
  {
   "cell_type": "code",
   "execution_count": 8,
   "id": "9eca114d",
   "metadata": {},
   "outputs": [
    {
     "name": "stdout",
     "output_type": "stream",
     "text": [
      "0\n"
     ]
    }
   ],
   "source": [
    "list1 = [1,2,3,4, [44,55,66, True], False, (34,56,78,89,34), {1,2,3,3,2,1}, {1:34, \"key2\": [55, 67, 78, 89], 4: (45, 22, 61, 34)}, [56, 'data science'], 'Machine Learning']\n",
    "result = product_of_numbers(list1)\n",
    "print(result)  # Output: 26181840000\n"
   ]
  },
  {
   "cell_type": "code",
   "execution_count": null,
   "id": "eb66a6d7",
   "metadata": {},
   "outputs": [],
   "source": [
    "#QNO.2 ANS"
   ]
  },
  {
   "cell_type": "code",
   "execution_count": 3,
   "id": "59d14175",
   "metadata": {},
   "outputs": [],
   "source": [
    "def encrypt_message(message):\n",
    "    encrypted_message = \"\"\n",
    "    for char in message.lower():\n",
    "        if char.isalpha():\n",
    "            encrypted_char = chr(219 - ord(char))\n",
    "            encrypted_message += encrypted_char\n",
    "        elif char == \" \":\n",
    "            encrypted_message += \"$\"\n",
    "        else:\n",
    "            encrypted_message += char\n",
    "    return encrypted_message.lower()\n"
   ]
  },
  {
   "cell_type": "code",
   "execution_count": 4,
   "id": "18c15c10",
   "metadata": {},
   "outputs": [
    {
     "name": "stdout",
     "output_type": "stream",
     "text": [
      "r$dzmg$gl$yvxlnv$z$wzgz$hxrvmgrhg.\n"
     ]
    }
   ],
   "source": [
    "input_sentence = \"I want to become a Data Scientist.\"\n",
    "encrypted_sentence = encrypt_message(input_sentence)\n",
    "print(encrypted_sentence)  # Output: r dlmg gl yvnzhv z wztv hfrhgrmt.\n"
   ]
  },
  {
   "cell_type": "code",
   "execution_count": null,
   "id": "932a18bc",
   "metadata": {},
   "outputs": [],
   "source": []
  }
 ],
 "metadata": {
  "kernelspec": {
   "display_name": "Python 3 (ipykernel)",
   "language": "python",
   "name": "python3"
  },
  "language_info": {
   "codemirror_mode": {
    "name": "ipython",
    "version": 3
   },
   "file_extension": ".py",
   "mimetype": "text/x-python",
   "name": "python",
   "nbconvert_exporter": "python",
   "pygments_lexer": "ipython3",
   "version": "3.9.13"
  }
 },
 "nbformat": 4,
 "nbformat_minor": 5
}
